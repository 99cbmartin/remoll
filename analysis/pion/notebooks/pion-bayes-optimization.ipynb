{
 "cells": [
  {
   "cell_type": "markdown",
   "metadata": {},
   "source": [
    "### Bayesian Optimization of the Pion Lucite Detector with Integer Parameter and Constraint Bounds"
   ]
  },
  {
   "cell_type": "markdown",
   "metadata": {},
   "source": [
    "This notebook demonstrates the use of Bayesian optimization to optimize the pion lucite detector design for the MOLLER experiment. It assumes Gaussian process noise, so it requires a simulation where we are well outside of Poisson statistics regime. It currently uses the bayes_opt module, but presumably there are othre options (MC-Stan, even sklearn)."
   ]
  },
  {
   "cell_type": "markdown",
   "metadata": {},
   "source": [
    "User input to this script, if you wish to adapt it, should be a simulation macro and an analysis macro that returns a target to optimize. "
   ]
  },
  {
   "cell_type": "code",
   "execution_count": null,
   "metadata": {},
   "outputs": [],
   "source": [
    "# Working directory, assumes build/ will contain remoll and reroot\n",
    "remoll   = \"/home/wdconinc/git/remoll\"\n",
    "# Geometry file to modify with parameters\n",
    "geomfile = \"geometry/pion/Lucite/pionDetectorLucite.gdml\"\n",
    "# Simulation macro, all output to cerr, cout is ignored\n",
    "macro    = \"macros/pion/pionDetectorLucite.mac\"\n",
    "# Analysis macro which produces a floating point number as last line\n",
    "analysis = 'analysis/pion/pionDetectorLucite_pe.C(\"pionDetectorLucite_pi.root\")'"
   ]
  },
  {
   "cell_type": "code",
   "execution_count": null,
   "metadata": {},
   "outputs": [],
   "source": [
    "import subprocess\n",
    "import fileinput\n",
    "import math\n",
    "import re\n",
    "\n",
    "def set_geometry(file, name, value):\n",
    "    \"\"\"\n",
    "    Modify the value of the gdml variable <name> to <value> in <file>.\n",
    "    \"\"\"\n",
    "    for line in fileinput.input(file, inplace = True):\n",
    "        print(re.sub(r'(name=\"%s\"[^\\>]*value)=\"[^\"]*\"' % name, r'\\1=\"%s\"' % str(value), line), end = '')\n",
    "    fileinput.close()\n",
    "    \n",
    "\n",
    "def run_simulation(\n",
    "    \"\"\"\n",
    "    Run a single simulation step with specified parameters.\n",
    "    \"\"\"\n",
    "        N_P = 3,\n",
    "        pionDetectorLucitePlaneThickness = 1,\n",
    "        pionDetectorLuciteInsideWidth = 30,\n",
    "        pionDetectorLuciteOutsideWidth = 30,\n",
    "        pionDetectorLuciteHeight = 25,\n",
    "        pionDetectorLuciteTheta = 0,\n",
    "        pionDetectorLuciteWedgeSide = 1,\n",
    "        pionDetectorLuciteWedgeAngle = 45,\n",
    "        pionDetectorLuciteReflectorHeight = 10,\n",
    "        pionDetectorLuciteReflectorWidth = 40,\n",
    "        pionDetectorLuciteReflectorDepth = 4,\n",
    "        pionDetectorLuciteReflectorTheta = 0,\n",
    "        pionDetectorLuciteLightGuideHeight = 40,\n",
    "        pionDetectorLuciteLightGuideTheta = 0,\n",
    "        pionDetectorLucitePMTDiameter = 3):\n",
    "\n",
    "    # Require integer values for the following parameters\n",
    "    N_P = int(N_P)\n",
    "    pionDetectorLucitePlaneThickness = int(pionDetectorLucitePlaneThickness)\n",
    "    pionDetectorLuciteReflectorDepth = int(pionDetectorLuciteReflectorDepth)\n",
    "    pionDetectorLucitePMTDiameter    = int(pionDetectorLucitePMTDiameter)\n",
    "\n",
    "    set_geometry(geomfile, \"N_P\", N_P)\n",
    "    set_geometry(geomfile, \"pionDetectorLucitePlaneThickness\",   pionDetectorLucitePlaneThickness * 2.54)\n",
    "    set_geometry(geomfile, \"pionDetectorLuciteInsideWidth\",      pionDetectorLuciteInsideWidth)\n",
    "    set_geometry(geomfile, \"pionDetectorLuciteOutsideWidth\",     pionDetectorLuciteOutsideWidth)\n",
    "    set_geometry(geomfile, \"pionDetectorLuciteHeight\",           pionDetectorLuciteHeight)\n",
    "    set_geometry(geomfile, \"pionDetectorLuciteTheta\",            pionDetectorLuciteTheta)\n",
    "    set_geometry(geomfile, \"pionDetectorLuciteWedgeSide\",        pionDetectorLuciteWedgeSide)\n",
    "    set_geometry(geomfile, \"pionDetectorLuciteWedgeAngle\",       pionDetectorLuciteWedgeAngle)\n",
    "    set_geometry(geomfile, \"pionDetectorLuciteReflectorHeight\",  pionDetectorLuciteReflectorHeight)\n",
    "    set_geometry(geomfile, \"pionDetectorLuciteReflectorWidth\",   pionDetectorLuciteReflectorWidth)\n",
    "    set_geometry(geomfile, \"pionDetectorLuciteReflectorDepth\",   pionDetectorLuciteReflectorDepth * 2.54)\n",
    "    set_geometry(geomfile, \"pionDetectorLuciteReflectorTheta\",   pionDetectorLuciteReflectorTheta)\n",
    "    set_geometry(geomfile, \"pionDetectorLuciteLightGuideHeight\", pionDetectorLuciteLightGuideHeight)\n",
    "    set_geometry(geomfile, \"pionDetectorLuciteLightGuideTheta\",  pionDetectorLuciteLightGuideTheta)\n",
    "    set_geometry(geomfile, \"pionDetectorLucitePMTDiameter\",      pionDetectorLucitePMTDiameter * 2.54)\n",
    "    \n",
    "    proc = subprocess.run([\"build/remoll\", macro],\n",
    "                   cwd = remoll,\n",
    "                   stdout = subprocess.DEVNULL,\n",
    "                   stderr = subprocess.DEVNULL)\n",
    "    \n",
    "    proc = subprocess.run([\"build/reroot\", \"-l\", \"-q\", analysis],\n",
    "                   cwd = remoll,\n",
    "                   stdout = subprocess.PIPE, \n",
    "                   stderr = subprocess.DEVNULL,\n",
    "                   encoding = 'utf-8')\n",
    "\n",
    "    # Collect output values: second to last line (last line empty), first word\n",
    "    number_of_pes = float(proc.stdout.split('\\n')[-2].split(' ')[0])\n",
    "    \n",
    "    # Detector volume\n",
    "    area = 0.5 * (pionDetectorLuciteInsideWidth + pionDetectorLuciteOutsideWidth) * pionDetectorLuciteHeight\n",
    "    volume = N_P * pionDetectorLucitePlaneThickness * area / math.cos(math.radians(pionDetectorLuciteTheta)\n",
    "\n",
    "    return number_of_pes / volume"
   ]
  },
  {
   "cell_type": "code",
   "execution_count": null,
   "metadata": {},
   "outputs": [],
   "source": [
    "# Bounded region of parameter space, with names of variables\n",
    "# Order here must correspond with what the target function expects\n",
    "pbounds = {\n",
    "    'N_P': (1, 5),\n",
    "    'PlaneThickness': (1, 5),\n",
    "    'InsideWidth': (10, 40),\n",
    "    'OutsideWidth': (10, 40),\n",
    "    'Height': (5, 40),\n",
    "    'Theta': (-45, +45),\n",
    "    'WedgeSide': (-1, 1),\n",
    "    'WedgeAngle': (0, 60),\n",
    "    'ReflectorHeight': (0, 20),\n",
    "    'ReflectorWidth': (20, 50),\n",
    "    'ReflectorDepth': (10, 25),\n",
    "    'ReflectorTheta': (-45, +45),\n",
    "    'LightGuideHeight': (10, 40),\n",
    "    'LightGuideTheta': (-45, +45),\n",
    "    'PMTDiameter': (2, 5)\n",
    "}"
   ]
  },
  {
   "cell_type": "code",
   "execution_count": null,
   "metadata": {},
   "outputs": [],
   "source": [
    "!pip install --user bayesian-optimization\n",
    "\n",
    "from bayes_opt import BayesianOptimization\n",
    "\n",
    "# Setup Bayesian optimizer\n",
    "optimizer = BayesianOptimization(\n",
    "    f = run_simulation,\n",
    "    pbounds = pbounds,\n",
    "    verbose = 2, # verbose = 1 prints only when a maximum is observed, verbose = 0 is silent\n",
    "    random_state = 1,\n",
    ")"
   ]
  },
  {
   "cell_type": "code",
   "execution_count": null,
   "metadata": {},
   "outputs": [],
   "source": [
    "# Now start optimization from init_points exploration points and n_iter iterations\n",
    "optimizer.maximize(\n",
    "    init_points = 2,\n",
    "    n_iter = 10,\n",
    ")"
   ]
  }
 ],
 "metadata": {
  "kernelspec": {
   "display_name": "Python 3",
   "language": "python",
   "name": "python3"
  },
  "language_info": {
   "codemirror_mode": {
    "name": "ipython",
    "version": 3
   },
   "file_extension": ".py",
   "mimetype": "text/x-python",
   "name": "python",
   "nbconvert_exporter": "python",
   "pygments_lexer": "ipython3",
   "version": "3.6.8"
  }
 },
 "nbformat": 4,
 "nbformat_minor": 2
}
