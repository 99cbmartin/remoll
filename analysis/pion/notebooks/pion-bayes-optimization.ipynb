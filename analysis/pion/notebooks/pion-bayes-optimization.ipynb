{
 "cells": [
  {
   "cell_type": "markdown",
   "metadata": {},
   "source": [
    "# Bayesian Optimization with Integer Parameter and Constraint Bounds"
   ]
  },
  {
   "cell_type": "markdown",
   "metadata": {},
   "source": [
    "This notebook demonstrates the use of Bayesian optimization to optimize the pion lucite detector design for the MOLLER experiment. It assumes Gaussian process noise, so it requires a simulation where we are well outside of Poisson statistics regime. It currently uses the bayesian-optimization and scikit-optimize modules, but presumably there are other options (MC-Stan)."
   ]
  },
  {
   "cell_type": "markdown",
   "metadata": {},
   "source": [
    "### User Input\n",
    "\n",
    "User input to this script, if you wish to adapt it, should be a simulation macro and an analysis macro that returns a target to optimize. "
   ]
  },
  {
   "cell_type": "code",
   "execution_count": null,
   "metadata": {},
   "outputs": [],
   "source": [
    "# Working directory, assumes build/ will contain remoll and reroot\n",
    "remoll   = '/home/wdconinc/git/remoll/'\n",
    "# Geometry file to modify with parameters\n",
    "geomfile = remoll + 'geometry/pion/Lucite/pionDetectorLucite.gdml'\n",
    "# Simulation macro, all output to cerr, cout is ignored\n",
    "macro    = remoll + 'macros/pion/pionDetectorLucite.mac'\n",
    "# Analysis macro which produces a floating point number as last line\n",
    "analysis = remoll + 'analysis/pion/pionDetectorLucite_pe.C(\"pionDetectorLucite_pi.root\")'"
   ]
  },
  {
   "cell_type": "markdown",
   "metadata": {},
   "source": [
    "## Parameter Boundaries\n",
    "\n",
    "We introduce some boundaries on the parameter space. Some of these are practical, others are softer constraints. Integer values are written without floating point, real values are written with the floating point.\n",
    "\n",
    "Later one, bayes_opt will allow for lower boundary == upper boundary constraints, but scikit-optimize requires some handholding."
   ]
  },
  {
   "cell_type": "code",
   "execution_count": null,
   "metadata": {},
   "outputs": [],
   "source": [
    "# Bounded region of parameter space, with names of variables\n",
    "# Note: Order here must correspond with what the target function expects!\n",
    "bounds = {\n",
    "    'N_P': (3, 3),  # integer\n",
    "    'PlaneThickness': (1., 1.), # in\n",
    "    'InsideWidth': (30., 30.),  # cm\n",
    "    'OutsideWidth': (30., 30.), # cm\n",
    "    'Height': (25., 25.), # cm\n",
    "    'Theta': (1.123, 1.123), # deg\n",
    "    'WedgeSide': (-1.0, +1.0), # fraction [-1,+1]\n",
    "    'WedgeHeightFraction': (0.01, 2.0), # fraction ]0,inf[\n",
    "    'WedgeBevelFraction': (0.01, 1.0), # fraction ]0,1[\n",
    "    'ReflectorLightGuideHeight': (48.9897, 48.9897), # cm\n",
    "    'ReflectorHeightFraction': (0.1835, 0.1835) # ]0,1[\n",
    "    'ReflectorWidth': (15.6, 15.6), # cm\n",
    "    'ReflectorDepth': (8.8796, 8.8796), # cm\n",
    "    'ReflectorTheta': (-12., -12.), # deg\n",
    "    'LightGuideHeight': (40., 40.), # cm\n",
    "    'LightGuideTheta': (0.1566, 0.1566), # deg\n",
    "    'PMTDiameter': (3, 3) # integer inches\n",
    "}\n",
    "# Note: Changes here require re-running the function definition below!"
   ]
  },
  {
   "cell_type": "markdown",
   "metadata": {},
   "source": [
    "## Input Parameter Processing and Job Configuration\n",
    "\n",
    "First we have to setup the way to get our parameters from inside this notebook to the simulation environment. We do this with a regex using the `re` module that modifies selected GDML parameters.\n",
    "\n",
    "Next we have to provide a function that returns our target value (here, the number of photoelectrons reaching the photocathode of the detector). We use `subprocess` to run the processes outside of the python notebook and parse the output that is then cast back into a real value."
   ]
  },
  {
   "cell_type": "code",
   "execution_count": null,
   "metadata": {},
   "outputs": [],
   "source": [
    "import subprocess\n",
    "import fileinput\n",
    "import math\n",
    "import re\n",
    "\n",
    "def set_geometry(file, name, value):\n",
    "    \"\"\"\n",
    "    Modify the value of the gdml variable <name> to <value> in <file>.\n",
    "    \"\"\"\n",
    "    #print(\"Setting %s to %s\" % (name,value))\n",
    "    for line in fileinput.input(file, inplace = True):\n",
    "        print(re.sub(r'(name=\"%s\"[^\\>]*value)=\"[^\"]*\"' % name, r'\\1=\"%s\"' % str(value), line), end = '')\n",
    "    fileinput.close()\n",
    "\n",
    "def run_simulation( # Using avg = sum/2 to set correctly if bounds are identical\n",
    "        N_P                 = sum(bounds['N_P'])/2,\n",
    "        PlaneThickness      = sum(bounds['PlaneThickness'])/2,\n",
    "        InsideWidth         = sum(bounds['InsideWidth'])/2,\n",
    "        OutsideWidth        = sum(bounds['OutsideWidth'])/2,\n",
    "        Height              = sum(bounds['Height'])/2,\n",
    "        Theta               = sum(bounds['Theta'])/2,\n",
    "        WedgeSide           = sum(bounds['WedgeSide'])/2,\n",
    "        WedgeHeightFraction = sum(bounds['WedgeHeightFraction'])/2,\n",
    "        WedgeBevelFraction  = sum(bounds['WedgeBevelFraction'])/2,\n",
    "        ReflectorLightGuideHeight = sum(bounds['ReflectorLightGuideHeight'])/2,\n",
    "        ReflectorHeightFraction   = sum(bounds['ReflectorHeightFraction'])/2,\n",
    "        ReflectorWidth      = sum(bounds['ReflectorWidth'])/2,\n",
    "        ReflectorDepth      = sum(bounds['ReflectorDepth'])/2,\n",
    "        ReflectorTheta      = sum(bounds['ReflectorTheta'])/2,\n",
    "        LightGuideTheta     = sum(bounds['LightGuideTheta'])/2,\n",
    "        PMTDiameter         = sum(bounds['PMTDiameter'])/2):\n",
    "    \"\"\"\n",
    "    Run a single simulation step with specified parameters.\n",
    "    \"\"\"\n",
    "\n",
    "    # Require integer values for the following parameters\n",
    "    N_P = int(N_P)\n",
    "    PMTDiameter    = int(PMTDiameter)\n",
    "\n",
    "    # Modify the geometry\n",
    "    set_geometry(geomfile, \"N_P\", N_P)\n",
    "    set_geometry(geomfile, \"pionDetectorLucitePlaneThickness\",      PlaneThickness * 2.54)\n",
    "    set_geometry(geomfile, \"pionDetectorLuciteInsideWidth\",         InsideWidth)\n",
    "    set_geometry(geomfile, \"pionDetectorLuciteOutsideWidth\",        OutsideWidth)\n",
    "    set_geometry(geomfile, \"pionDetectorLuciteHeight\",              Height)\n",
    "    set_geometry(geomfile, \"pionDetectorLuciteTheta\",               Theta)\n",
    "    set_geometry(geomfile, \"pionDetectorLuciteWedgeSide\",           WedgeSide)\n",
    "    set_geometry(geomfile, \"pionDetectorLuciteWedgeHeightFraction\", WedgeHeightFraction)\n",
    "    set_geometry(geomfile, \"pionDetectorLuciteWedgeBevelFraction\",  WedgeBevelFraction)\n",
    "    set_geometry(geomfile, \"pionDetectorLuciteReflectorLightGuideHeight\", ReflectorLightGuideHeight)\n",
    "    set_geometry(geomfile, \"pionDetectorLuciteReflectorHeightFraction\", ReflectorHeightFraction)\n",
    "    set_geometry(geomfile, \"pionDetectorLuciteReflectorWidth\",      ReflectorWidth)\n",
    "    set_geometry(geomfile, \"pionDetectorLuciteReflectorDepth\",      ReflectorDepth)\n",
    "    set_geometry(geomfile, \"pionDetectorLuciteReflectorTheta\",      ReflectorTheta)\n",
    "    set_geometry(geomfile, \"pionDetectorLuciteLightGuideTheta\",     LightGuideTheta)\n",
    "    set_geometry(geomfile, \"pionDetectorLucitePMTDiameter\",         PMTDiameter * 2.54)\n",
    "    \n",
    "    # Run simulation\n",
    "    proc = subprocess.run([\"build/remoll\", macro],\n",
    "                   cwd = '/home/wdconinc/git/remoll',\n",
    "                   stdout = subprocess.DEVNULL,\n",
    "                   stderr = subprocess.DEVNULL,\n",
    "                   encoding = 'utf-8')\n",
    "    \n",
    "    # Run analysis\n",
    "    proc = subprocess.run([\"build/reroot\", \"-l\", \"-q\", analysis],\n",
    "                   cwd = '/home/wdconinc/git/remoll',\n",
    "                   stdout = subprocess.PIPE, \n",
    "                   stderr = subprocess.DEVNULL,\n",
    "                   encoding = 'utf-8')\n",
    "\n",
    "    # Collect output values: second to last line (last line empty), first word\n",
    "    number_of_pes = float(proc.stdout.split('\\n')[-2].split(' ')[0])\n",
    "    \n",
    "    # Detector area, thickness and volume\n",
    "    area = 0.5 * (InsideWidth + OutsideWidth) * Height\n",
    "    thickness = N_P * PlaneThickness / math.cos(math.radians(Theta))\n",
    "    volume = thickness * area\n",
    "    \n",
    "    # Generated number of PEs, for lucite: N_gamma^inf = 412.0 photons / cm between 300 nm and 600 nm\n",
    "    generated_number_of_photons = 412.0 * thickness\n",
    "\n",
    "    # Normalize number of PEs to the number of PEs generated by the track\n",
    "    return number_of_pes / generated_number_of_photons"
   ]
  },
  {
   "cell_type": "markdown",
   "metadata": {},
   "source": [
    "## Bayesian Optimization with `bayes_opt`\n",
    "\n",
    "We first install the package with pip, setup the optimizer, setup log file reading and writing for history between consecutive sessions, and then optimize."
   ]
  },
  {
   "cell_type": "code",
   "execution_count": null,
   "metadata": {
    "scrolled": true
   },
   "outputs": [],
   "source": [
    "!pip install --user bayesian-optimization\n",
    "\n",
    "from bayes_opt import BayesianOptimization\n",
    "from bayes_opt.util import load_logs\n",
    "\n",
    "# Setup Bayesian optimizer\n",
    "optimizer = BayesianOptimization(\n",
    "    f = run_simulation,\n",
    "    pbounds = bounds,\n",
    "    verbose = 2, # verbose = 1 prints only when a maximum is observed, verbose = 0 is silent\n",
    "    random_state = 1,\n",
    ")\n",
    "\n",
    "# New optimizer is loaded with previously seen points\n",
    "import os.path\n",
    "logfile = \"./logs.json\"\n",
    "if os.path.isfile(logfile):\n",
    "    load_logs(optimizer, logs = [logfile]);\n",
    "    \n",
    "from bayes_opt.observer import JSONLogger\n",
    "from bayes_opt.event import Events\n",
    "\n",
    "logger = JSONLogger(path = logfile)\n",
    "optimizer.subscribe(Events.OPTMIZATION_STEP, logger)\n",
    "\n",
    "# Now start optimization from init_points exploration points and n_iter iterations\n",
    "res = optimizer.maximize(\n",
    "    init_points = 2,\n",
    "    n_iter = 40,\n",
    ")"
   ]
  },
  {
   "cell_type": "markdown",
   "metadata": {},
   "source": [
    "## Bayesian Optimization with scikit-optimize (`skopt`)\n",
    "\n",
    "To treat the zero-width parameters boundaries we use a list comprehension over the zipped boundaries with ifs before and after the for. This does mean that the other, fixed, values will not be actively passed to the function (FIXME)."
   ]
  },
  {
   "cell_type": "code",
   "execution_count": null,
   "metadata": {},
   "outputs": [],
   "source": [
    "!pip install --user scikit-optimize\n",
    "\n",
    "from skopt.space import Real, Integer\n",
    "parameter_space = [Integer(value[0], value[1], name = key)\n",
    "                   if type(value[0]) == int \n",
    "                   else Real(value[0], value[1], name = key)\n",
    "                   for value,key in zip(bounds.values(),bounds.keys()) \n",
    "                   if value[1] != value[0]]\n",
    "\n",
    "from pprint import pprint\n",
    "pprint(parameter_space)"
   ]
  },
  {
   "cell_type": "markdown",
   "metadata": {},
   "source": [
    "Now we install the package and setup the objective function with our named parameter space as a decorator. Unfortunately scikit-optimize only knows how minimize, not maximize."
   ]
  },
  {
   "cell_type": "code",
   "execution_count": null,
   "metadata": {},
   "outputs": [],
   "source": [
    "!pip install --user scikit-optimize\n",
    "\n",
    "from skopt.utils import use_named_args\n",
    "@use_named_args(parameter_space)\n",
    "def objective_function(**kwargs):\n",
    "    \"\"\"An objective function to minimize, based on the simulation function to maximize.\"\"\"\n",
    "    return -run_simulation(**kwargs)\n",
    "\n",
    "noise = None # variance, you may want to change if simulations are noisier than this\n",
    "random_state = 1234\n",
    "verbose = True"
   ]
  },
  {
   "cell_type": "markdown",
   "metadata": {},
   "source": [
    "### Bayesian optimization using Gaussian Processes"
   ]
  },
  {
   "cell_type": "code",
   "execution_count": null,
   "metadata": {
    "scrolled": false
   },
   "outputs": [],
   "source": [
    "from skopt import gp_minimize\n",
    "\n",
    "try:\n",
    "    x0 = gp_res.x_iters\n",
    "    y0 = gp_res.func_vals\n",
    "    n_random_starts = 0\n",
    "except NameError:\n",
    "    x0 = None\n",
    "    y0 = None\n",
    "    n_random_starts = 20\n",
    "\n",
    "gp_res = gp_minimize(\n",
    "    objective_function,\n",
    "    parameter_space,\n",
    "    acq_func = \"gp_hedge\", # EI, PI, LCB, or a mixture with gp_hedge\n",
    "    n_calls = 100,\n",
    "    n_random_starts = n_random_starts,\n",
    "    noise = noise,\n",
    "    x0 = x0,\n",
    "    y0 = y0,\n",
    "    random_state = random_state,\n",
    "    verbose = verbose)"
   ]
  },
  {
   "cell_type": "code",
   "execution_count": null,
   "metadata": {},
   "outputs": [],
   "source": [
    "print(gp_res.x, gp_res.fun)"
   ]
  },
  {
   "cell_type": "code",
   "execution_count": null,
   "metadata": {},
   "outputs": [],
   "source": []
  },
  {
   "cell_type": "markdown",
   "metadata": {},
   "source": [
    "#### Plot convergence"
   ]
  },
  {
   "cell_type": "code",
   "execution_count": null,
   "metadata": {
    "scrolled": true
   },
   "outputs": [],
   "source": [
    "from skopt.plots import plot_convergence\n",
    "_ = plot_convergence(gp_res);"
   ]
  },
  {
   "cell_type": "markdown",
   "metadata": {},
   "source": [
    "#### Plot cumulative regret"
   ]
  },
  {
   "cell_type": "code",
   "execution_count": null,
   "metadata": {},
   "outputs": [],
   "source": [
    "from skopt.plots import plot_regret\n",
    "_ = plot_regret(gp_res)"
   ]
  },
  {
   "cell_type": "markdown",
   "metadata": {},
   "source": [
    "#### Plot evaluation matrix"
   ]
  },
  {
   "cell_type": "code",
   "execution_count": null,
   "metadata": {
    "scrolled": false
   },
   "outputs": [],
   "source": [
    "from skopt.plots import plot_evaluations\n",
    "_ = plot_evaluations(gp_res)"
   ]
  },
  {
   "cell_type": "markdown",
   "metadata": {},
   "source": [
    "#### Plot objective matrix"
   ]
  },
  {
   "cell_type": "code",
   "execution_count": null,
   "metadata": {},
   "outputs": [],
   "source": [
    "from skopt.plots import plot_objective\n",
    "_ = plot_objective(gp_res)"
   ]
  },
  {
   "cell_type": "markdown",
   "metadata": {},
   "source": [
    "### Sequential optimization using gradient boosted trees"
   ]
  },
  {
   "cell_type": "code",
   "execution_count": null,
   "metadata": {
    "scrolled": true
   },
   "outputs": [],
   "source": [
    "from skopt import gbrt_minimize\n",
    "\n",
    "gbrt_res = gbrt_minimize(\n",
    "    objective_function,\n",
    "    parameter_space,\n",
    "    acq_func = \"LCB\", # EI, PI, LCB, PIps, EIps\n",
    "    n_calls = 15,\n",
    "    n_random_starts = 5,\n",
    "    random_state = random_state,\n",
    "    verbose = verbose)"
   ]
  },
  {
   "cell_type": "markdown",
   "metadata": {},
   "source": [
    "#### Plot convergence"
   ]
  },
  {
   "cell_type": "code",
   "execution_count": null,
   "metadata": {},
   "outputs": [],
   "source": [
    "from skopt.plots import plot_convergence\n",
    "_ = plot_convergence(gbrt_res);"
   ]
  },
  {
   "cell_type": "markdown",
   "metadata": {},
   "source": [
    "#### Plot evaluation matrix"
   ]
  },
  {
   "cell_type": "code",
   "execution_count": null,
   "metadata": {
    "scrolled": false
   },
   "outputs": [],
   "source": [
    "from skopt.plots import plot_evaluations\n",
    "_ = plot_evaluations(gbrt_res)"
   ]
  },
  {
   "cell_type": "markdown",
   "metadata": {},
   "source": [
    "#### Plot objective matrix"
   ]
  },
  {
   "cell_type": "code",
   "execution_count": null,
   "metadata": {},
   "outputs": [],
   "source": [
    "from skopt.plots import plot_objective\n",
    "_ = plot_objective(gbrt_res)"
   ]
  },
  {
   "cell_type": "markdown",
   "metadata": {},
   "source": [
    "### Sequential optimisation using decision trees"
   ]
  },
  {
   "cell_type": "code",
   "execution_count": null,
   "metadata": {},
   "outputs": [],
   "source": [
    "from skopt import forest_minimize\n",
    "\n",
    "forest_res = forest_minimize(\n",
    "    objective_function,\n",
    "    parameter_space,\n",
    "    n_calls = 10,\n",
    "    base_estimator = \"ET\",\n",
    "    random_state = random_state,\n",
    "    verbose = verbose)"
   ]
  },
  {
   "cell_type": "markdown",
   "metadata": {},
   "source": [
    "#### Plot convergence"
   ]
  },
  {
   "cell_type": "code",
   "execution_count": null,
   "metadata": {
    "scrolled": true
   },
   "outputs": [],
   "source": [
    "from skopt import plot_convergence\n",
    "_ = plot_convergence(forest_res);"
   ]
  },
  {
   "cell_type": "markdown",
   "metadata": {},
   "source": [
    "#### Plot evaluation matrix"
   ]
  },
  {
   "cell_type": "code",
   "execution_count": null,
   "metadata": {
    "scrolled": false
   },
   "outputs": [],
   "source": [
    "from skopt.plots import plot_evaluations\n",
    "_ = plot_evaluations(forest_res)"
   ]
  },
  {
   "cell_type": "markdown",
   "metadata": {},
   "source": [
    "#### Plot objective matrix"
   ]
  },
  {
   "cell_type": "code",
   "execution_count": null,
   "metadata": {},
   "outputs": [],
   "source": [
    "from skopt.plots import plot_objective\n",
    "_ = plot_objective(forest_res)"
   ]
  }
 ],
 "metadata": {
  "kernelspec": {
   "display_name": "Python 3",
   "language": "python",
   "name": "python3"
  },
  "language_info": {
   "codemirror_mode": {
    "name": "ipython",
    "version": 3
   },
   "file_extension": ".py",
   "mimetype": "text/x-python",
   "name": "python",
   "nbconvert_exporter": "python",
   "pygments_lexer": "ipython3",
   "version": "3.7.5rc1"
  }
 },
 "nbformat": 4,
 "nbformat_minor": 2
}
